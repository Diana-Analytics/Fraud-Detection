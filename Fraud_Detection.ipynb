{
 "cells": [
  {
   "cell_type": "markdown",
   "metadata": {
    "id": "hPvcP42xMJ-s"
   },
   "source": [
    "## **Uploading The Dataset**"
   ]
  },
  {
   "cell_type": "markdown",
   "metadata": {
    "colab": {
     "base_uri": "https://localhost:8080/",
     "height": 74
    },
    "id": "qeCO_c4SrcHh",
    "outputId": "9341b981-c341-4bef-8b71-ed89ff916c2b"
   },
   "source": [
    "from google.colab import files\n",
    "uploaded = files.upload()"
   ]
  },
  {
   "cell_type": "markdown",
   "metadata": {
    "id": "bP9bPpt_MWwn"
   },
   "source": [
    "**Importing The Necessary Libraries**"
   ]
  },
  {
   "cell_type": "code",
   "execution_count": 4,
   "metadata": {
    "id": "tz9we2rkwX-M"
   },
   "outputs": [],
   "source": [
    "import pandas as pd\n",
    "import numpy as np\n",
    "import matplotlib.pyplot as plt\n",
    "import seaborn as sns\n"
   ]
  },
  {
   "cell_type": "code",
   "execution_count": 7,
   "metadata": {
    "colab": {
     "base_uri": "https://localhost:8080/",
     "height": 424
    },
    "id": "QamEHqV2w0Lq",
    "outputId": "a5365458-940b-4bb8-8fc4-d751adcf4f15"
   },
   "outputs": [
    {
     "data": {
      "text/html": [
       "<div>\n",
       "<style scoped>\n",
       "    .dataframe tbody tr th:only-of-type {\n",
       "        vertical-align: middle;\n",
       "    }\n",
       "\n",
       "    .dataframe tbody tr th {\n",
       "        vertical-align: top;\n",
       "    }\n",
       "\n",
       "    .dataframe thead th {\n",
       "        text-align: right;\n",
       "    }\n",
       "</style>\n",
       "<table border=\"1\" class=\"dataframe\">\n",
       "  <thead>\n",
       "    <tr style=\"text-align: right;\">\n",
       "      <th></th>\n",
       "      <th>TransactionID</th>\n",
       "      <th>TransactionDate</th>\n",
       "      <th>Amount</th>\n",
       "      <th>MerchantID</th>\n",
       "      <th>TransactionType</th>\n",
       "      <th>Location</th>\n",
       "      <th>IsFraud</th>\n",
       "    </tr>\n",
       "  </thead>\n",
       "  <tbody>\n",
       "    <tr>\n",
       "      <th>0</th>\n",
       "      <td>1</td>\n",
       "      <td>2024-04-03 14:15:35.462794</td>\n",
       "      <td>4189.27</td>\n",
       "      <td>688</td>\n",
       "      <td>refund</td>\n",
       "      <td>San Antonio</td>\n",
       "      <td>0</td>\n",
       "    </tr>\n",
       "    <tr>\n",
       "      <th>1</th>\n",
       "      <td>2</td>\n",
       "      <td>2024-03-19 13:20:35.462824</td>\n",
       "      <td>2659.71</td>\n",
       "      <td>109</td>\n",
       "      <td>refund</td>\n",
       "      <td>Dallas</td>\n",
       "      <td>0</td>\n",
       "    </tr>\n",
       "    <tr>\n",
       "      <th>2</th>\n",
       "      <td>3</td>\n",
       "      <td>2024-01-08 10:08:35.462834</td>\n",
       "      <td>784.00</td>\n",
       "      <td>394</td>\n",
       "      <td>purchase</td>\n",
       "      <td>New York</td>\n",
       "      <td>0</td>\n",
       "    </tr>\n",
       "    <tr>\n",
       "      <th>3</th>\n",
       "      <td>4</td>\n",
       "      <td>2024-04-13 23:50:35.462850</td>\n",
       "      <td>3514.40</td>\n",
       "      <td>944</td>\n",
       "      <td>purchase</td>\n",
       "      <td>Philadelphia</td>\n",
       "      <td>0</td>\n",
       "    </tr>\n",
       "    <tr>\n",
       "      <th>4</th>\n",
       "      <td>5</td>\n",
       "      <td>2024-07-12 18:51:35.462858</td>\n",
       "      <td>369.07</td>\n",
       "      <td>475</td>\n",
       "      <td>purchase</td>\n",
       "      <td>Phoenix</td>\n",
       "      <td>0</td>\n",
       "    </tr>\n",
       "    <tr>\n",
       "      <th>...</th>\n",
       "      <td>...</td>\n",
       "      <td>...</td>\n",
       "      <td>...</td>\n",
       "      <td>...</td>\n",
       "      <td>...</td>\n",
       "      <td>...</td>\n",
       "      <td>...</td>\n",
       "    </tr>\n",
       "    <tr>\n",
       "      <th>99995</th>\n",
       "      <td>99996</td>\n",
       "      <td>2024-06-07 00:57:36.027591</td>\n",
       "      <td>1057.29</td>\n",
       "      <td>289</td>\n",
       "      <td>refund</td>\n",
       "      <td>San Antonio</td>\n",
       "      <td>0</td>\n",
       "    </tr>\n",
       "    <tr>\n",
       "      <th>99996</th>\n",
       "      <td>99997</td>\n",
       "      <td>2023-10-22 23:12:36.027594</td>\n",
       "      <td>297.25</td>\n",
       "      <td>745</td>\n",
       "      <td>refund</td>\n",
       "      <td>San Antonio</td>\n",
       "      <td>0</td>\n",
       "    </tr>\n",
       "    <tr>\n",
       "      <th>99997</th>\n",
       "      <td>99998</td>\n",
       "      <td>2024-05-31 19:27:36.027597</td>\n",
       "      <td>3448.56</td>\n",
       "      <td>690</td>\n",
       "      <td>purchase</td>\n",
       "      <td>San Antonio</td>\n",
       "      <td>0</td>\n",
       "    </tr>\n",
       "    <tr>\n",
       "      <th>99998</th>\n",
       "      <td>99999</td>\n",
       "      <td>2024-10-18 09:43:36.027601</td>\n",
       "      <td>3750.79</td>\n",
       "      <td>644</td>\n",
       "      <td>purchase</td>\n",
       "      <td>Philadelphia</td>\n",
       "      <td>0</td>\n",
       "    </tr>\n",
       "    <tr>\n",
       "      <th>99999</th>\n",
       "      <td>100000</td>\n",
       "      <td>2024-03-05 19:41:36.027606</td>\n",
       "      <td>1596.79</td>\n",
       "      <td>675</td>\n",
       "      <td>refund</td>\n",
       "      <td>Houston</td>\n",
       "      <td>0</td>\n",
       "    </tr>\n",
       "  </tbody>\n",
       "</table>\n",
       "<p>100000 rows × 7 columns</p>\n",
       "</div>"
      ],
      "text/plain": [
       "       TransactionID             TransactionDate   Amount  MerchantID  \\\n",
       "0                  1  2024-04-03 14:15:35.462794  4189.27         688   \n",
       "1                  2  2024-03-19 13:20:35.462824  2659.71         109   \n",
       "2                  3  2024-01-08 10:08:35.462834   784.00         394   \n",
       "3                  4  2024-04-13 23:50:35.462850  3514.40         944   \n",
       "4                  5  2024-07-12 18:51:35.462858   369.07         475   \n",
       "...              ...                         ...      ...         ...   \n",
       "99995          99996  2024-06-07 00:57:36.027591  1057.29         289   \n",
       "99996          99997  2023-10-22 23:12:36.027594   297.25         745   \n",
       "99997          99998  2024-05-31 19:27:36.027597  3448.56         690   \n",
       "99998          99999  2024-10-18 09:43:36.027601  3750.79         644   \n",
       "99999         100000  2024-03-05 19:41:36.027606  1596.79         675   \n",
       "\n",
       "      TransactionType      Location  IsFraud  \n",
       "0              refund   San Antonio        0  \n",
       "1              refund        Dallas        0  \n",
       "2            purchase      New York        0  \n",
       "3            purchase  Philadelphia        0  \n",
       "4            purchase       Phoenix        0  \n",
       "...               ...           ...      ...  \n",
       "99995          refund   San Antonio        0  \n",
       "99996          refund   San Antonio        0  \n",
       "99997        purchase   San Antonio        0  \n",
       "99998        purchase  Philadelphia        0  \n",
       "99999          refund       Houston        0  \n",
       "\n",
       "[100000 rows x 7 columns]"
      ]
     },
     "execution_count": 7,
     "metadata": {},
     "output_type": "execute_result"
    }
   ],
   "source": [
    "df=pd.read_csv(r\"C:\\Data Analytics\\Machine learning\\Log_Regression\\credit_card_fraud_dataset.csv\")\n",
    "df"
   ]
  },
  {
   "cell_type": "markdown",
   "metadata": {
    "id": "YNW-p2R6Mid8"
   },
   "source": [
    "## **Data Cleaning**\n",
    "\n",
    "**Checking Null Values**"
   ]
  },
  {
   "cell_type": "code",
   "execution_count": 8,
   "metadata": {
    "colab": {
     "base_uri": "https://localhost:8080/"
    },
    "id": "blKXSqCDw0CV",
    "outputId": "c921c0ae-8187-479d-f1f3-08dd19ef28d5"
   },
   "outputs": [
    {
     "data": {
      "text/plain": [
       "0"
      ]
     },
     "execution_count": 8,
     "metadata": {},
     "output_type": "execute_result"
    }
   ],
   "source": [
    "df.isnull().sum().sum()"
   ]
  },
  {
   "cell_type": "markdown",
   "metadata": {
    "id": "RXskvQGaMvrM"
   },
   "source": [
    "**Checking Duplicates**"
   ]
  },
  {
   "cell_type": "code",
   "execution_count": 9,
   "metadata": {
    "colab": {
     "base_uri": "https://localhost:8080/"
    },
    "id": "Cu0HrGUKwz_T",
    "outputId": "2d5b4883-f64e-45fb-a29a-ac8ee4c5c8d2"
   },
   "outputs": [
    {
     "data": {
      "text/plain": [
       "0"
      ]
     },
     "execution_count": 9,
     "metadata": {},
     "output_type": "execute_result"
    }
   ],
   "source": [
    "df.duplicated().sum()"
   ]
  },
  {
   "cell_type": "markdown",
   "metadata": {
    "id": "XFBqy64LM02M"
   },
   "source": [
    "**Checking Basic Info**"
   ]
  },
  {
   "cell_type": "code",
   "execution_count": 10,
   "metadata": {
    "colab": {
     "base_uri": "https://localhost:8080/"
    },
    "id": "HqTRNh3P1whm",
    "outputId": "558d505e-b2fa-4c3f-972a-bbc0b7e9a2f5"
   },
   "outputs": [
    {
     "name": "stdout",
     "output_type": "stream",
     "text": [
      "<class 'pandas.core.frame.DataFrame'>\n",
      "RangeIndex: 100000 entries, 0 to 99999\n",
      "Data columns (total 7 columns):\n",
      " #   Column           Non-Null Count   Dtype  \n",
      "---  ------           --------------   -----  \n",
      " 0   TransactionID    100000 non-null  int64  \n",
      " 1   TransactionDate  100000 non-null  object \n",
      " 2   Amount           100000 non-null  float64\n",
      " 3   MerchantID       100000 non-null  int64  \n",
      " 4   TransactionType  100000 non-null  object \n",
      " 5   Location         100000 non-null  object \n",
      " 6   IsFraud          100000 non-null  int64  \n",
      "dtypes: float64(1), int64(3), object(3)\n",
      "memory usage: 5.3+ MB\n"
     ]
    }
   ],
   "source": [
    "df.info()"
   ]
  },
  {
   "cell_type": "markdown",
   "metadata": {
    "id": "6jPlpgijy_Rm"
   },
   "source": [
    "## **Feature Engineering**\n",
    "**Dropping Irrelevant features**"
   ]
  },
  {
   "cell_type": "code",
   "execution_count": 11,
   "metadata": {
    "id": "IwLBz6KOzGUW"
   },
   "outputs": [],
   "source": [
    "df.drop(['TransactionID'],axis=1,inplace=True)"
   ]
  },
  {
   "cell_type": "code",
   "execution_count": 12,
   "metadata": {
    "colab": {
     "base_uri": "https://localhost:8080/",
     "height": 424
    },
    "id": "4qe5figIzGgf",
    "outputId": "7f0a35b1-ed1d-4ae8-f24f-e093e7b7b089"
   },
   "outputs": [
    {
     "data": {
      "text/html": [
       "<div>\n",
       "<style scoped>\n",
       "    .dataframe tbody tr th:only-of-type {\n",
       "        vertical-align: middle;\n",
       "    }\n",
       "\n",
       "    .dataframe tbody tr th {\n",
       "        vertical-align: top;\n",
       "    }\n",
       "\n",
       "    .dataframe thead th {\n",
       "        text-align: right;\n",
       "    }\n",
       "</style>\n",
       "<table border=\"1\" class=\"dataframe\">\n",
       "  <thead>\n",
       "    <tr style=\"text-align: right;\">\n",
       "      <th></th>\n",
       "      <th>TransactionDate</th>\n",
       "      <th>Amount</th>\n",
       "      <th>MerchantID</th>\n",
       "      <th>TransactionType</th>\n",
       "      <th>Location</th>\n",
       "      <th>IsFraud</th>\n",
       "    </tr>\n",
       "  </thead>\n",
       "  <tbody>\n",
       "    <tr>\n",
       "      <th>0</th>\n",
       "      <td>2024-04-03 14:15:35.462794</td>\n",
       "      <td>4189.27</td>\n",
       "      <td>688</td>\n",
       "      <td>refund</td>\n",
       "      <td>San Antonio</td>\n",
       "      <td>0</td>\n",
       "    </tr>\n",
       "    <tr>\n",
       "      <th>1</th>\n",
       "      <td>2024-03-19 13:20:35.462824</td>\n",
       "      <td>2659.71</td>\n",
       "      <td>109</td>\n",
       "      <td>refund</td>\n",
       "      <td>Dallas</td>\n",
       "      <td>0</td>\n",
       "    </tr>\n",
       "    <tr>\n",
       "      <th>2</th>\n",
       "      <td>2024-01-08 10:08:35.462834</td>\n",
       "      <td>784.00</td>\n",
       "      <td>394</td>\n",
       "      <td>purchase</td>\n",
       "      <td>New York</td>\n",
       "      <td>0</td>\n",
       "    </tr>\n",
       "    <tr>\n",
       "      <th>3</th>\n",
       "      <td>2024-04-13 23:50:35.462850</td>\n",
       "      <td>3514.40</td>\n",
       "      <td>944</td>\n",
       "      <td>purchase</td>\n",
       "      <td>Philadelphia</td>\n",
       "      <td>0</td>\n",
       "    </tr>\n",
       "    <tr>\n",
       "      <th>4</th>\n",
       "      <td>2024-07-12 18:51:35.462858</td>\n",
       "      <td>369.07</td>\n",
       "      <td>475</td>\n",
       "      <td>purchase</td>\n",
       "      <td>Phoenix</td>\n",
       "      <td>0</td>\n",
       "    </tr>\n",
       "    <tr>\n",
       "      <th>...</th>\n",
       "      <td>...</td>\n",
       "      <td>...</td>\n",
       "      <td>...</td>\n",
       "      <td>...</td>\n",
       "      <td>...</td>\n",
       "      <td>...</td>\n",
       "    </tr>\n",
       "    <tr>\n",
       "      <th>99995</th>\n",
       "      <td>2024-06-07 00:57:36.027591</td>\n",
       "      <td>1057.29</td>\n",
       "      <td>289</td>\n",
       "      <td>refund</td>\n",
       "      <td>San Antonio</td>\n",
       "      <td>0</td>\n",
       "    </tr>\n",
       "    <tr>\n",
       "      <th>99996</th>\n",
       "      <td>2023-10-22 23:12:36.027594</td>\n",
       "      <td>297.25</td>\n",
       "      <td>745</td>\n",
       "      <td>refund</td>\n",
       "      <td>San Antonio</td>\n",
       "      <td>0</td>\n",
       "    </tr>\n",
       "    <tr>\n",
       "      <th>99997</th>\n",
       "      <td>2024-05-31 19:27:36.027597</td>\n",
       "      <td>3448.56</td>\n",
       "      <td>690</td>\n",
       "      <td>purchase</td>\n",
       "      <td>San Antonio</td>\n",
       "      <td>0</td>\n",
       "    </tr>\n",
       "    <tr>\n",
       "      <th>99998</th>\n",
       "      <td>2024-10-18 09:43:36.027601</td>\n",
       "      <td>3750.79</td>\n",
       "      <td>644</td>\n",
       "      <td>purchase</td>\n",
       "      <td>Philadelphia</td>\n",
       "      <td>0</td>\n",
       "    </tr>\n",
       "    <tr>\n",
       "      <th>99999</th>\n",
       "      <td>2024-03-05 19:41:36.027606</td>\n",
       "      <td>1596.79</td>\n",
       "      <td>675</td>\n",
       "      <td>refund</td>\n",
       "      <td>Houston</td>\n",
       "      <td>0</td>\n",
       "    </tr>\n",
       "  </tbody>\n",
       "</table>\n",
       "<p>100000 rows × 6 columns</p>\n",
       "</div>"
      ],
      "text/plain": [
       "                  TransactionDate   Amount  MerchantID TransactionType  \\\n",
       "0      2024-04-03 14:15:35.462794  4189.27         688          refund   \n",
       "1      2024-03-19 13:20:35.462824  2659.71         109          refund   \n",
       "2      2024-01-08 10:08:35.462834   784.00         394        purchase   \n",
       "3      2024-04-13 23:50:35.462850  3514.40         944        purchase   \n",
       "4      2024-07-12 18:51:35.462858   369.07         475        purchase   \n",
       "...                           ...      ...         ...             ...   \n",
       "99995  2024-06-07 00:57:36.027591  1057.29         289          refund   \n",
       "99996  2023-10-22 23:12:36.027594   297.25         745          refund   \n",
       "99997  2024-05-31 19:27:36.027597  3448.56         690        purchase   \n",
       "99998  2024-10-18 09:43:36.027601  3750.79         644        purchase   \n",
       "99999  2024-03-05 19:41:36.027606  1596.79         675          refund   \n",
       "\n",
       "           Location  IsFraud  \n",
       "0       San Antonio        0  \n",
       "1            Dallas        0  \n",
       "2          New York        0  \n",
       "3      Philadelphia        0  \n",
       "4           Phoenix        0  \n",
       "...             ...      ...  \n",
       "99995   San Antonio        0  \n",
       "99996   San Antonio        0  \n",
       "99997   San Antonio        0  \n",
       "99998  Philadelphia        0  \n",
       "99999       Houston        0  \n",
       "\n",
       "[100000 rows x 6 columns]"
      ]
     },
     "execution_count": 12,
     "metadata": {},
     "output_type": "execute_result"
    }
   ],
   "source": [
    "df"
   ]
  },
  {
   "cell_type": "markdown",
   "metadata": {
    "id": "aOUtXbQe34UB"
   },
   "source": [
    "**Converting Transactiondate to datetime format**"
   ]
  },
  {
   "cell_type": "code",
   "execution_count": 13,
   "metadata": {
    "id": "VJbMOrgpzGpU"
   },
   "outputs": [],
   "source": [
    "df['TransactionDate']=pd.to_datetime(df['TransactionDate'])"
   ]
  },
  {
   "cell_type": "code",
   "execution_count": 14,
   "metadata": {
    "colab": {
     "base_uri": "https://localhost:8080/"
    },
    "id": "DRUciFfAzGth",
    "outputId": "dca90d21-c990-4dfc-958c-89f18ddeae18"
   },
   "outputs": [
    {
     "data": {
      "text/plain": [
       "dtype('<M8[ns]')"
      ]
     },
     "execution_count": 14,
     "metadata": {},
     "output_type": "execute_result"
    }
   ],
   "source": [
    "df['TransactionDate'].dtype"
   ]
  },
  {
   "cell_type": "markdown",
   "metadata": {
    "id": "2zYnif2E6WDc"
   },
   "source": [
    "**Extracting Useful Date Component For Analysis**"
   ]
  },
  {
   "cell_type": "code",
   "execution_count": 15,
   "metadata": {
    "id": "9zk4Hcc5zGxA"
   },
   "outputs": [],
   "source": [
    "df['Hour']=df['TransactionDate'].dt.hour\n",
    "df['Weekday']=df['TransactionDate'].dt.weekday\n",
    "df['Day_of_Month']=df['TransactionDate'].dt.day\n",
    "df['Month']=df['TransactionDate'].dt.month\n",
    "df['IsWeekend']=df['Weekday'].apply(lambda x:1 if x in [5,6] else 0)#df['IsWeekend']=df['Weekday'].isin([5,6]).astype(int)\n",
    "df['IsNight']=((df['Hour']>=23)|(df['Hour']<=6)).astype(int)\n"
   ]
  },
  {
   "cell_type": "code",
   "execution_count": 16,
   "metadata": {
    "colab": {
     "base_uri": "https://localhost:8080/",
     "height": 424
    },
    "id": "aGPoZoiyzGz_",
    "outputId": "541f78b9-1f1b-423a-9676-09afba3b50b3"
   },
   "outputs": [
    {
     "data": {
      "text/html": [
       "<div>\n",
       "<style scoped>\n",
       "    .dataframe tbody tr th:only-of-type {\n",
       "        vertical-align: middle;\n",
       "    }\n",
       "\n",
       "    .dataframe tbody tr th {\n",
       "        vertical-align: top;\n",
       "    }\n",
       "\n",
       "    .dataframe thead th {\n",
       "        text-align: right;\n",
       "    }\n",
       "</style>\n",
       "<table border=\"1\" class=\"dataframe\">\n",
       "  <thead>\n",
       "    <tr style=\"text-align: right;\">\n",
       "      <th></th>\n",
       "      <th>TransactionDate</th>\n",
       "      <th>Amount</th>\n",
       "      <th>MerchantID</th>\n",
       "      <th>TransactionType</th>\n",
       "      <th>Location</th>\n",
       "      <th>IsFraud</th>\n",
       "      <th>Hour</th>\n",
       "      <th>Weekday</th>\n",
       "      <th>Day_of_Month</th>\n",
       "      <th>Month</th>\n",
       "      <th>IsWeekend</th>\n",
       "      <th>IsNight</th>\n",
       "    </tr>\n",
       "  </thead>\n",
       "  <tbody>\n",
       "    <tr>\n",
       "      <th>0</th>\n",
       "      <td>2024-04-03 14:15:35.462794</td>\n",
       "      <td>4189.27</td>\n",
       "      <td>688</td>\n",
       "      <td>refund</td>\n",
       "      <td>San Antonio</td>\n",
       "      <td>0</td>\n",
       "      <td>14</td>\n",
       "      <td>2</td>\n",
       "      <td>3</td>\n",
       "      <td>4</td>\n",
       "      <td>0</td>\n",
       "      <td>0</td>\n",
       "    </tr>\n",
       "    <tr>\n",
       "      <th>1</th>\n",
       "      <td>2024-03-19 13:20:35.462824</td>\n",
       "      <td>2659.71</td>\n",
       "      <td>109</td>\n",
       "      <td>refund</td>\n",
       "      <td>Dallas</td>\n",
       "      <td>0</td>\n",
       "      <td>13</td>\n",
       "      <td>1</td>\n",
       "      <td>19</td>\n",
       "      <td>3</td>\n",
       "      <td>0</td>\n",
       "      <td>0</td>\n",
       "    </tr>\n",
       "    <tr>\n",
       "      <th>2</th>\n",
       "      <td>2024-01-08 10:08:35.462834</td>\n",
       "      <td>784.00</td>\n",
       "      <td>394</td>\n",
       "      <td>purchase</td>\n",
       "      <td>New York</td>\n",
       "      <td>0</td>\n",
       "      <td>10</td>\n",
       "      <td>0</td>\n",
       "      <td>8</td>\n",
       "      <td>1</td>\n",
       "      <td>0</td>\n",
       "      <td>0</td>\n",
       "    </tr>\n",
       "    <tr>\n",
       "      <th>3</th>\n",
       "      <td>2024-04-13 23:50:35.462850</td>\n",
       "      <td>3514.40</td>\n",
       "      <td>944</td>\n",
       "      <td>purchase</td>\n",
       "      <td>Philadelphia</td>\n",
       "      <td>0</td>\n",
       "      <td>23</td>\n",
       "      <td>5</td>\n",
       "      <td>13</td>\n",
       "      <td>4</td>\n",
       "      <td>1</td>\n",
       "      <td>1</td>\n",
       "    </tr>\n",
       "    <tr>\n",
       "      <th>4</th>\n",
       "      <td>2024-07-12 18:51:35.462858</td>\n",
       "      <td>369.07</td>\n",
       "      <td>475</td>\n",
       "      <td>purchase</td>\n",
       "      <td>Phoenix</td>\n",
       "      <td>0</td>\n",
       "      <td>18</td>\n",
       "      <td>4</td>\n",
       "      <td>12</td>\n",
       "      <td>7</td>\n",
       "      <td>0</td>\n",
       "      <td>0</td>\n",
       "    </tr>\n",
       "    <tr>\n",
       "      <th>...</th>\n",
       "      <td>...</td>\n",
       "      <td>...</td>\n",
       "      <td>...</td>\n",
       "      <td>...</td>\n",
       "      <td>...</td>\n",
       "      <td>...</td>\n",
       "      <td>...</td>\n",
       "      <td>...</td>\n",
       "      <td>...</td>\n",
       "      <td>...</td>\n",
       "      <td>...</td>\n",
       "      <td>...</td>\n",
       "    </tr>\n",
       "    <tr>\n",
       "      <th>99995</th>\n",
       "      <td>2024-06-07 00:57:36.027591</td>\n",
       "      <td>1057.29</td>\n",
       "      <td>289</td>\n",
       "      <td>refund</td>\n",
       "      <td>San Antonio</td>\n",
       "      <td>0</td>\n",
       "      <td>0</td>\n",
       "      <td>4</td>\n",
       "      <td>7</td>\n",
       "      <td>6</td>\n",
       "      <td>0</td>\n",
       "      <td>1</td>\n",
       "    </tr>\n",
       "    <tr>\n",
       "      <th>99996</th>\n",
       "      <td>2023-10-22 23:12:36.027594</td>\n",
       "      <td>297.25</td>\n",
       "      <td>745</td>\n",
       "      <td>refund</td>\n",
       "      <td>San Antonio</td>\n",
       "      <td>0</td>\n",
       "      <td>23</td>\n",
       "      <td>6</td>\n",
       "      <td>22</td>\n",
       "      <td>10</td>\n",
       "      <td>1</td>\n",
       "      <td>1</td>\n",
       "    </tr>\n",
       "    <tr>\n",
       "      <th>99997</th>\n",
       "      <td>2024-05-31 19:27:36.027597</td>\n",
       "      <td>3448.56</td>\n",
       "      <td>690</td>\n",
       "      <td>purchase</td>\n",
       "      <td>San Antonio</td>\n",
       "      <td>0</td>\n",
       "      <td>19</td>\n",
       "      <td>4</td>\n",
       "      <td>31</td>\n",
       "      <td>5</td>\n",
       "      <td>0</td>\n",
       "      <td>0</td>\n",
       "    </tr>\n",
       "    <tr>\n",
       "      <th>99998</th>\n",
       "      <td>2024-10-18 09:43:36.027601</td>\n",
       "      <td>3750.79</td>\n",
       "      <td>644</td>\n",
       "      <td>purchase</td>\n",
       "      <td>Philadelphia</td>\n",
       "      <td>0</td>\n",
       "      <td>9</td>\n",
       "      <td>4</td>\n",
       "      <td>18</td>\n",
       "      <td>10</td>\n",
       "      <td>0</td>\n",
       "      <td>0</td>\n",
       "    </tr>\n",
       "    <tr>\n",
       "      <th>99999</th>\n",
       "      <td>2024-03-05 19:41:36.027606</td>\n",
       "      <td>1596.79</td>\n",
       "      <td>675</td>\n",
       "      <td>refund</td>\n",
       "      <td>Houston</td>\n",
       "      <td>0</td>\n",
       "      <td>19</td>\n",
       "      <td>1</td>\n",
       "      <td>5</td>\n",
       "      <td>3</td>\n",
       "      <td>0</td>\n",
       "      <td>0</td>\n",
       "    </tr>\n",
       "  </tbody>\n",
       "</table>\n",
       "<p>100000 rows × 12 columns</p>\n",
       "</div>"
      ],
      "text/plain": [
       "                 TransactionDate   Amount  MerchantID TransactionType  \\\n",
       "0     2024-04-03 14:15:35.462794  4189.27         688          refund   \n",
       "1     2024-03-19 13:20:35.462824  2659.71         109          refund   \n",
       "2     2024-01-08 10:08:35.462834   784.00         394        purchase   \n",
       "3     2024-04-13 23:50:35.462850  3514.40         944        purchase   \n",
       "4     2024-07-12 18:51:35.462858   369.07         475        purchase   \n",
       "...                          ...      ...         ...             ...   \n",
       "99995 2024-06-07 00:57:36.027591  1057.29         289          refund   \n",
       "99996 2023-10-22 23:12:36.027594   297.25         745          refund   \n",
       "99997 2024-05-31 19:27:36.027597  3448.56         690        purchase   \n",
       "99998 2024-10-18 09:43:36.027601  3750.79         644        purchase   \n",
       "99999 2024-03-05 19:41:36.027606  1596.79         675          refund   \n",
       "\n",
       "           Location  IsFraud  Hour  Weekday  Day_of_Month  Month  IsWeekend  \\\n",
       "0       San Antonio        0    14        2             3      4          0   \n",
       "1            Dallas        0    13        1            19      3          0   \n",
       "2          New York        0    10        0             8      1          0   \n",
       "3      Philadelphia        0    23        5            13      4          1   \n",
       "4           Phoenix        0    18        4            12      7          0   \n",
       "...             ...      ...   ...      ...           ...    ...        ...   \n",
       "99995   San Antonio        0     0        4             7      6          0   \n",
       "99996   San Antonio        0    23        6            22     10          1   \n",
       "99997   San Antonio        0    19        4            31      5          0   \n",
       "99998  Philadelphia        0     9        4            18     10          0   \n",
       "99999       Houston        0    19        1             5      3          0   \n",
       "\n",
       "       IsNight  \n",
       "0            0  \n",
       "1            0  \n",
       "2            0  \n",
       "3            1  \n",
       "4            0  \n",
       "...        ...  \n",
       "99995        1  \n",
       "99996        1  \n",
       "99997        0  \n",
       "99998        0  \n",
       "99999        0  \n",
       "\n",
       "[100000 rows x 12 columns]"
      ]
     },
     "execution_count": 16,
     "metadata": {},
     "output_type": "execute_result"
    }
   ],
   "source": [
    "df"
   ]
  },
  {
   "cell_type": "markdown",
   "metadata": {
    "id": "vmjsFjEGOBpp"
   },
   "source": [
    "**Dropping Extra Baggage**"
   ]
  },
  {
   "cell_type": "code",
   "execution_count": 17,
   "metadata": {
    "id": "ZNf2XkvSzG8o"
   },
   "outputs": [],
   "source": [
    "del df['TransactionDate']"
   ]
  },
  {
   "cell_type": "markdown",
   "metadata": {
    "id": "olas3OAGOXEZ"
   },
   "source": [
    "**Encoding Categorical Data**"
   ]
  },
  {
   "cell_type": "code",
   "execution_count": 18,
   "metadata": {
    "id": "v8jkrc22zG_A"
   },
   "outputs": [],
   "source": [
    "from sklearn.preprocessing import LabelEncoder\n",
    "\n",
    "le = LabelEncoder()\n",
    "columns=['Location','TransactionType']\n",
    "for col in columns:\n",
    "    df[col] = le.fit_transform(df[col])"
   ]
  },
  {
   "cell_type": "code",
   "execution_count": 19,
   "metadata": {
    "colab": {
     "base_uri": "https://localhost:8080/",
     "height": 424
    },
    "id": "qeVl-ZzEzHC1",
    "outputId": "ec08c496-4be5-4971-fa49-80e79b95040b"
   },
   "outputs": [
    {
     "data": {
      "text/html": [
       "<div>\n",
       "<style scoped>\n",
       "    .dataframe tbody tr th:only-of-type {\n",
       "        vertical-align: middle;\n",
       "    }\n",
       "\n",
       "    .dataframe tbody tr th {\n",
       "        vertical-align: top;\n",
       "    }\n",
       "\n",
       "    .dataframe thead th {\n",
       "        text-align: right;\n",
       "    }\n",
       "</style>\n",
       "<table border=\"1\" class=\"dataframe\">\n",
       "  <thead>\n",
       "    <tr style=\"text-align: right;\">\n",
       "      <th></th>\n",
       "      <th>Amount</th>\n",
       "      <th>MerchantID</th>\n",
       "      <th>TransactionType</th>\n",
       "      <th>Location</th>\n",
       "      <th>IsFraud</th>\n",
       "      <th>Hour</th>\n",
       "      <th>Weekday</th>\n",
       "      <th>Day_of_Month</th>\n",
       "      <th>Month</th>\n",
       "      <th>IsWeekend</th>\n",
       "      <th>IsNight</th>\n",
       "    </tr>\n",
       "  </thead>\n",
       "  <tbody>\n",
       "    <tr>\n",
       "      <th>0</th>\n",
       "      <td>4189.27</td>\n",
       "      <td>688</td>\n",
       "      <td>1</td>\n",
       "      <td>7</td>\n",
       "      <td>0</td>\n",
       "      <td>14</td>\n",
       "      <td>2</td>\n",
       "      <td>3</td>\n",
       "      <td>4</td>\n",
       "      <td>0</td>\n",
       "      <td>0</td>\n",
       "    </tr>\n",
       "    <tr>\n",
       "      <th>1</th>\n",
       "      <td>2659.71</td>\n",
       "      <td>109</td>\n",
       "      <td>1</td>\n",
       "      <td>1</td>\n",
       "      <td>0</td>\n",
       "      <td>13</td>\n",
       "      <td>1</td>\n",
       "      <td>19</td>\n",
       "      <td>3</td>\n",
       "      <td>0</td>\n",
       "      <td>0</td>\n",
       "    </tr>\n",
       "    <tr>\n",
       "      <th>2</th>\n",
       "      <td>784.00</td>\n",
       "      <td>394</td>\n",
       "      <td>0</td>\n",
       "      <td>4</td>\n",
       "      <td>0</td>\n",
       "      <td>10</td>\n",
       "      <td>0</td>\n",
       "      <td>8</td>\n",
       "      <td>1</td>\n",
       "      <td>0</td>\n",
       "      <td>0</td>\n",
       "    </tr>\n",
       "    <tr>\n",
       "      <th>3</th>\n",
       "      <td>3514.40</td>\n",
       "      <td>944</td>\n",
       "      <td>0</td>\n",
       "      <td>5</td>\n",
       "      <td>0</td>\n",
       "      <td>23</td>\n",
       "      <td>5</td>\n",
       "      <td>13</td>\n",
       "      <td>4</td>\n",
       "      <td>1</td>\n",
       "      <td>1</td>\n",
       "    </tr>\n",
       "    <tr>\n",
       "      <th>4</th>\n",
       "      <td>369.07</td>\n",
       "      <td>475</td>\n",
       "      <td>0</td>\n",
       "      <td>6</td>\n",
       "      <td>0</td>\n",
       "      <td>18</td>\n",
       "      <td>4</td>\n",
       "      <td>12</td>\n",
       "      <td>7</td>\n",
       "      <td>0</td>\n",
       "      <td>0</td>\n",
       "    </tr>\n",
       "    <tr>\n",
       "      <th>...</th>\n",
       "      <td>...</td>\n",
       "      <td>...</td>\n",
       "      <td>...</td>\n",
       "      <td>...</td>\n",
       "      <td>...</td>\n",
       "      <td>...</td>\n",
       "      <td>...</td>\n",
       "      <td>...</td>\n",
       "      <td>...</td>\n",
       "      <td>...</td>\n",
       "      <td>...</td>\n",
       "    </tr>\n",
       "    <tr>\n",
       "      <th>99995</th>\n",
       "      <td>1057.29</td>\n",
       "      <td>289</td>\n",
       "      <td>1</td>\n",
       "      <td>7</td>\n",
       "      <td>0</td>\n",
       "      <td>0</td>\n",
       "      <td>4</td>\n",
       "      <td>7</td>\n",
       "      <td>6</td>\n",
       "      <td>0</td>\n",
       "      <td>1</td>\n",
       "    </tr>\n",
       "    <tr>\n",
       "      <th>99996</th>\n",
       "      <td>297.25</td>\n",
       "      <td>745</td>\n",
       "      <td>1</td>\n",
       "      <td>7</td>\n",
       "      <td>0</td>\n",
       "      <td>23</td>\n",
       "      <td>6</td>\n",
       "      <td>22</td>\n",
       "      <td>10</td>\n",
       "      <td>1</td>\n",
       "      <td>1</td>\n",
       "    </tr>\n",
       "    <tr>\n",
       "      <th>99997</th>\n",
       "      <td>3448.56</td>\n",
       "      <td>690</td>\n",
       "      <td>0</td>\n",
       "      <td>7</td>\n",
       "      <td>0</td>\n",
       "      <td>19</td>\n",
       "      <td>4</td>\n",
       "      <td>31</td>\n",
       "      <td>5</td>\n",
       "      <td>0</td>\n",
       "      <td>0</td>\n",
       "    </tr>\n",
       "    <tr>\n",
       "      <th>99998</th>\n",
       "      <td>3750.79</td>\n",
       "      <td>644</td>\n",
       "      <td>0</td>\n",
       "      <td>5</td>\n",
       "      <td>0</td>\n",
       "      <td>9</td>\n",
       "      <td>4</td>\n",
       "      <td>18</td>\n",
       "      <td>10</td>\n",
       "      <td>0</td>\n",
       "      <td>0</td>\n",
       "    </tr>\n",
       "    <tr>\n",
       "      <th>99999</th>\n",
       "      <td>1596.79</td>\n",
       "      <td>675</td>\n",
       "      <td>1</td>\n",
       "      <td>2</td>\n",
       "      <td>0</td>\n",
       "      <td>19</td>\n",
       "      <td>1</td>\n",
       "      <td>5</td>\n",
       "      <td>3</td>\n",
       "      <td>0</td>\n",
       "      <td>0</td>\n",
       "    </tr>\n",
       "  </tbody>\n",
       "</table>\n",
       "<p>100000 rows × 11 columns</p>\n",
       "</div>"
      ],
      "text/plain": [
       "        Amount  MerchantID  TransactionType  Location  IsFraud  Hour  Weekday  \\\n",
       "0      4189.27         688                1         7        0    14        2   \n",
       "1      2659.71         109                1         1        0    13        1   \n",
       "2       784.00         394                0         4        0    10        0   \n",
       "3      3514.40         944                0         5        0    23        5   \n",
       "4       369.07         475                0         6        0    18        4   \n",
       "...        ...         ...              ...       ...      ...   ...      ...   \n",
       "99995  1057.29         289                1         7        0     0        4   \n",
       "99996   297.25         745                1         7        0    23        6   \n",
       "99997  3448.56         690                0         7        0    19        4   \n",
       "99998  3750.79         644                0         5        0     9        4   \n",
       "99999  1596.79         675                1         2        0    19        1   \n",
       "\n",
       "       Day_of_Month  Month  IsWeekend  IsNight  \n",
       "0                 3      4          0        0  \n",
       "1                19      3          0        0  \n",
       "2                 8      1          0        0  \n",
       "3                13      4          1        1  \n",
       "4                12      7          0        0  \n",
       "...             ...    ...        ...      ...  \n",
       "99995             7      6          0        1  \n",
       "99996            22     10          1        1  \n",
       "99997            31      5          0        0  \n",
       "99998            18     10          0        0  \n",
       "99999             5      3          0        0  \n",
       "\n",
       "[100000 rows x 11 columns]"
      ]
     },
     "execution_count": 19,
     "metadata": {},
     "output_type": "execute_result"
    }
   ],
   "source": [
    "df"
   ]
  },
  {
   "cell_type": "markdown",
   "metadata": {
    "id": "QpK8PUj9TERl"
   },
   "source": [
    "**Using DBSCAN To Detect Outliers**"
   ]
  },
  {
   "cell_type": "code",
   "execution_count": 20,
   "metadata": {
    "colab": {
     "base_uri": "https://localhost:8080/"
    },
    "id": "g3nyCdpzzHJ_",
    "outputId": "cbc7e03b-df27-4d41-adcd-4afff9aad9c9"
   },
   "outputs": [
    {
     "name": "stdout",
     "output_type": "stream",
     "text": [
      "Number of outliers detected: 0\n"
     ]
    }
   ],
   "source": [
    "from sklearn.cluster import DBSCAN\n",
    "\n",
    "best_eps = 0.5\n",
    "best_min_samples = 4\n",
    "\n",
    "dbscan = DBSCAN(eps=best_eps, min_samples=best_min_samples)\n",
    "df['Cluster'] = dbscan.fit_predict(df[['Amount']])\n",
    "\n",
    "# Check how many points were classified as outliers\n",
    "outliers = df[df['Cluster'] == -1]\n",
    "print(f\"Number of outliers detected: {len(outliers)}\")\n"
   ]
  },
  {
   "cell_type": "markdown",
   "metadata": {
    "id": "7AwGk2IhYX1u"
   },
   "source": [
    "**Detecting Outliers Again Using Boxplot For Confirmation**"
   ]
  },
  {
   "cell_type": "code",
   "execution_count": 21,
   "metadata": {
    "colab": {
     "base_uri": "https://localhost:8080/",
     "height": 458
    },
    "id": "XyVD1onqzHPe",
    "outputId": "4bbfc568-29a4-4aa3-c655-283e8ef40dbc"
   },
   "outputs": [
    {
     "data": {
      "image/png": "[encoded data removed]",
      "text/plain": [
       "<Figure size 640x480 with 1 Axes>"
      ]
     },
     "metadata": {},
     "output_type": "display_data"
    }
   ],
   "source": [
    "sns.boxplot(df['Amount'])\n",
    "plt.title('Distribution of Transaction Amounts')\n",
    "plt.xlabel('Transaction Amount')\n",
    "plt.ylabel('Values')\n",
    "plt.show()"
   ]
  },
  {
   "cell_type": "markdown",
   "metadata": {
    "id": "BOgdu6FXav_j"
   },
   "source": [
    "**Correlation Between Features Using A Heatmap**"
   ]
  },
  {
   "cell_type": "code",
   "execution_count": 22,
   "metadata": {
    "colab": {
     "base_uri": "https://localhost:8080/",
     "height": 426
    },
    "id": "ht055C_CzHZg",
    "outputId": "75e4adda-3466-4a4c-b6fa-d6413bf0d928"
   },
   "outputs": [
    {
     "data": {
      "text/html": [
       "<div>\n",
       "<style scoped>\n",
       "    .dataframe tbody tr th:only-of-type {\n",
       "        vertical-align: middle;\n",
       "    }\n",
       "\n",
       "    .dataframe tbody tr th {\n",
       "        vertical-align: top;\n",
       "    }\n",
       "\n",
       "    .dataframe thead th {\n",
       "        text-align: right;\n",
       "    }\n",
       "</style>\n",
       "<table border=\"1\" class=\"dataframe\">\n",
       "  <thead>\n",
       "    <tr style=\"text-align: right;\">\n",
       "      <th></th>\n",
       "      <th>Amount</th>\n",
       "      <th>MerchantID</th>\n",
       "      <th>TransactionType</th>\n",
       "      <th>Location</th>\n",
       "      <th>IsFraud</th>\n",
       "      <th>Hour</th>\n",
       "      <th>Weekday</th>\n",
       "      <th>Day_of_Month</th>\n",
       "      <th>Month</th>\n",
       "      <th>IsWeekend</th>\n",
       "      <th>IsNight</th>\n",
       "      <th>Cluster</th>\n",
       "    </tr>\n",
       "  </thead>\n",
       "  <tbody>\n",
       "    <tr>\n",
       "      <th>Amount</th>\n",
       "      <td>1.000000</td>\n",
       "      <td>-0.000386</td>\n",
       "      <td>-0.002321</td>\n",
       "      <td>-0.000348</td>\n",
       "      <td>0.001399</td>\n",
       "      <td>0.000494</td>\n",
       "      <td>-0.001442</td>\n",
       "      <td>-0.000426</td>\n",
       "      <td>0.000327</td>\n",
       "      <td>0.000065</td>\n",
       "      <td>-0.003716</td>\n",
       "      <td>-0.679284</td>\n",
       "    </tr>\n",
       "    <tr>\n",
       "      <th>MerchantID</th>\n",
       "      <td>-0.000386</td>\n",
       "      <td>1.000000</td>\n",
       "      <td>-0.002766</td>\n",
       "      <td>-0.001837</td>\n",
       "      <td>0.001157</td>\n",
       "      <td>-0.000222</td>\n",
       "      <td>0.003874</td>\n",
       "      <td>-0.002447</td>\n",
       "      <td>-0.001496</td>\n",
       "      <td>0.004294</td>\n",
       "      <td>-0.004119</td>\n",
       "      <td>0.001031</td>\n",
       "    </tr>\n",
       "    <tr>\n",
       "      <th>TransactionType</th>\n",
       "      <td>-0.002321</td>\n",
       "      <td>-0.002766</td>\n",
       "      <td>1.000000</td>\n",
       "      <td>-0.001868</td>\n",
       "      <td>0.001144</td>\n",
       "      <td>-0.000982</td>\n",
       "      <td>0.001749</td>\n",
       "      <td>-0.003668</td>\n",
       "      <td>0.001470</td>\n",
       "      <td>0.001350</td>\n",
       "      <td>-0.002810</td>\n",
       "      <td>0.001545</td>\n",
       "    </tr>\n",
       "    <tr>\n",
       "      <th>Location</th>\n",
       "      <td>-0.000348</td>\n",
       "      <td>-0.001837</td>\n",
       "      <td>-0.001868</td>\n",
       "      <td>1.000000</td>\n",
       "      <td>0.000444</td>\n",
       "      <td>-0.000683</td>\n",
       "      <td>-0.000722</td>\n",
       "      <td>-0.000822</td>\n",
       "      <td>-0.000879</td>\n",
       "      <td>-0.003122</td>\n",
       "      <td>-0.001462</td>\n",
       "      <td>-0.003239</td>\n",
       "    </tr>\n",
       "    <tr>\n",
       "      <th>IsFraud</th>\n",
       "      <td>0.001399</td>\n",
       "      <td>0.001157</td>\n",
       "      <td>0.001144</td>\n",
       "      <td>0.000444</td>\n",
       "      <td>1.000000</td>\n",
       "      <td>-0.005838</td>\n",
       "      <td>0.000501</td>\n",
       "      <td>-0.002283</td>\n",
       "      <td>-0.004700</td>\n",
       "      <td>-0.000290</td>\n",
       "      <td>0.002325</td>\n",
       "      <td>-0.001638</td>\n",
       "    </tr>\n",
       "    <tr>\n",
       "      <th>Hour</th>\n",
       "      <td>0.000494</td>\n",
       "      <td>-0.000222</td>\n",
       "      <td>-0.000982</td>\n",
       "      <td>-0.000683</td>\n",
       "      <td>-0.005838</td>\n",
       "      <td>1.000000</td>\n",
       "      <td>0.005496</td>\n",
       "      <td>0.002577</td>\n",
       "      <td>-0.001788</td>\n",
       "      <td>0.008344</td>\n",
       "      <td>-0.614087</td>\n",
       "      <td>-0.001119</td>\n",
       "    </tr>\n",
       "    <tr>\n",
       "      <th>Weekday</th>\n",
       "      <td>-0.001442</td>\n",
       "      <td>0.003874</td>\n",
       "      <td>0.001749</td>\n",
       "      <td>-0.000722</td>\n",
       "      <td>0.000501</td>\n",
       "      <td>0.005496</td>\n",
       "      <td>1.000000</td>\n",
       "      <td>0.015205</td>\n",
       "      <td>0.021534</td>\n",
       "      <td>0.791493</td>\n",
       "      <td>-0.005709</td>\n",
       "      <td>0.000478</td>\n",
       "    </tr>\n",
       "    <tr>\n",
       "      <th>Day_of_Month</th>\n",
       "      <td>-0.000426</td>\n",
       "      <td>-0.002447</td>\n",
       "      <td>-0.003668</td>\n",
       "      <td>-0.000822</td>\n",
       "      <td>-0.002283</td>\n",
       "      <td>0.002577</td>\n",
       "      <td>0.015205</td>\n",
       "      <td>1.000000</td>\n",
       "      <td>0.006267</td>\n",
       "      <td>0.025211</td>\n",
       "      <td>-0.000421</td>\n",
       "      <td>0.000670</td>\n",
       "    </tr>\n",
       "    <tr>\n",
       "      <th>Month</th>\n",
       "      <td>0.000327</td>\n",
       "      <td>-0.001496</td>\n",
       "      <td>0.001470</td>\n",
       "      <td>-0.000879</td>\n",
       "      <td>-0.004700</td>\n",
       "      <td>-0.001788</td>\n",
       "      <td>0.021534</td>\n",
       "      <td>0.006267</td>\n",
       "      <td>1.000000</td>\n",
       "      <td>0.018379</td>\n",
       "      <td>-0.002786</td>\n",
       "      <td>-0.000155</td>\n",
       "    </tr>\n",
       "    <tr>\n",
       "      <th>IsWeekend</th>\n",
       "      <td>0.000065</td>\n",
       "      <td>0.004294</td>\n",
       "      <td>0.001350</td>\n",
       "      <td>-0.003122</td>\n",
       "      <td>-0.000290</td>\n",
       "      <td>0.008344</td>\n",
       "      <td>0.791493</td>\n",
       "      <td>0.025211</td>\n",
       "      <td>0.018379</td>\n",
       "      <td>1.000000</td>\n",
       "      <td>-0.008021</td>\n",
       "      <td>-0.002481</td>\n",
       "    </tr>\n",
       "    <tr>\n",
       "      <th>IsNight</th>\n",
       "      <td>-0.003716</td>\n",
       "      <td>-0.004119</td>\n",
       "      <td>-0.002810</td>\n",
       "      <td>-0.001462</td>\n",
       "      <td>0.002325</td>\n",
       "      <td>-0.614087</td>\n",
       "      <td>-0.005709</td>\n",
       "      <td>-0.000421</td>\n",
       "      <td>-0.002786</td>\n",
       "      <td>-0.008021</td>\n",
       "      <td>1.000000</td>\n",
       "      <td>0.001828</td>\n",
       "    </tr>\n",
       "    <tr>\n",
       "      <th>Cluster</th>\n",
       "      <td>-0.679284</td>\n",
       "      <td>0.001031</td>\n",
       "      <td>0.001545</td>\n",
       "      <td>-0.003239</td>\n",
       "      <td>-0.001638</td>\n",
       "      <td>-0.001119</td>\n",
       "      <td>0.000478</td>\n",
       "      <td>0.000670</td>\n",
       "      <td>-0.000155</td>\n",
       "      <td>-0.002481</td>\n",
       "      <td>0.001828</td>\n",
       "      <td>1.000000</td>\n",
       "    </tr>\n",
       "  </tbody>\n",
       "</table>\n",
       "</div>"
      ],
      "text/plain": [
       "                   Amount  MerchantID  TransactionType  Location   IsFraud  \\\n",
       "Amount           1.000000   -0.000386        -0.002321 -0.000348  0.001399   \n",
       "MerchantID      -0.000386    1.000000        -0.002766 -0.001837  0.001157   \n",
       "TransactionType -0.002321   -0.002766         1.000000 -0.001868  0.001144   \n",
       "Location        -0.000348   -0.001837        -0.001868  1.000000  0.000444   \n",
       "IsFraud          0.001399    0.001157         0.001144  0.000444  1.000000   \n",
       "Hour             0.000494   -0.000222        -0.000982 -0.000683 -0.005838   \n",
       "Weekday         -0.001442    0.003874         0.001749 -0.000722  0.000501   \n",
       "Day_of_Month    -0.000426   -0.002447        -0.003668 -0.000822 -0.002283   \n",
       "Month            0.000327   -0.001496         0.001470 -0.000879 -0.004700   \n",
       "IsWeekend        0.000065    0.004294         0.001350 -0.003122 -0.000290   \n",
       "IsNight         -0.003716   -0.004119        -0.002810 -0.001462  0.002325   \n",
       "Cluster         -0.679284    0.001031         0.001545 -0.003239 -0.001638   \n",
       "\n",
       "                     Hour   Weekday  Day_of_Month     Month  IsWeekend  \\\n",
       "Amount           0.000494 -0.001442     -0.000426  0.000327   0.000065   \n",
       "MerchantID      -0.000222  0.003874     -0.002447 -0.001496   0.004294   \n",
       "TransactionType -0.000982  0.001749     -0.003668  0.001470   0.001350   \n",
       "Location        -0.000683 -0.000722     -0.000822 -0.000879  -0.003122   \n",
       "IsFraud         -0.005838  0.000501     -0.002283 -0.004700  -0.000290   \n",
       "Hour             1.000000  0.005496      0.002577 -0.001788   0.008344   \n",
       "Weekday          0.005496  1.000000      0.015205  0.021534   0.791493   \n",
       "Day_of_Month     0.002577  0.015205      1.000000  0.006267   0.025211   \n",
       "Month           -0.001788  0.021534      0.006267  1.000000   0.018379   \n",
       "IsWeekend        0.008344  0.791493      0.025211  0.018379   1.000000   \n",
       "IsNight         -0.614087 -0.005709     -0.000421 -0.002786  -0.008021   \n",
       "Cluster         -0.001119  0.000478      0.000670 -0.000155  -0.002481   \n",
       "\n",
       "                  IsNight   Cluster  \n",
       "Amount          -0.003716 -0.679284  \n",
       "MerchantID      -0.004119  0.001031  \n",
       "TransactionType -0.002810  0.001545  \n",
       "Location        -0.001462 -0.003239  \n",
       "IsFraud          0.002325 -0.001638  \n",
       "Hour            -0.614087 -0.001119  \n",
       "Weekday         -0.005709  0.000478  \n",
       "Day_of_Month    -0.000421  0.000670  \n",
       "Month           -0.002786 -0.000155  \n",
       "IsWeekend       -0.008021 -0.002481  \n",
       "IsNight          1.000000  0.001828  \n",
       "Cluster          0.001828  1.000000  "
      ]
     },
     "execution_count": 22,
     "metadata": {},
     "output_type": "execute_result"
    }
   ],
   "source": [
    "df.corr()"
   ]
  },
  {
   "cell_type": "markdown",
   "metadata": {
    "id": "p3WplHOjaFyE"
   },
   "source": [
    "## **Checking For Multicollinearity Between Features**"
   ]
  },
  {
   "cell_type": "code",
   "execution_count": 23,
   "metadata": {
    "colab": {
     "base_uri": "https://localhost:8080/"
    },
    "id": "wI0ohbOghzUm",
    "outputId": "a00d07e1-11bf-4869-c9d2-f712e2467ab6"
   },
   "outputs": [
    {
     "name": "stdout",
     "output_type": "stream",
     "text": [
      "            Feature       VIF\n",
      "0            Amount  5.287646\n",
      "1        MerchantID  3.676280\n",
      "2   TransactionType  1.946832\n",
      "3          Location  3.193266\n",
      "4           IsFraud  1.009762\n",
      "5              Hour  4.838584\n",
      "6           Weekday  8.134372\n",
      "7      Day_of_Month  3.841214\n",
      "8             Month  4.133168\n",
      "9         IsWeekend  3.675687\n",
      "10          IsNight  2.078997\n",
      "11          Cluster  2.641290\n"
     ]
    }
   ],
   "source": [
    "from statsmodels.stats.outliers_influence import variance_inflation_factor\n",
    "import pandas as pd\n",
    "\n",
    "vif = pd.DataFrame()\n",
    "vif[\"Feature\"] = df.columns\n",
    "vif[\"VIF\"] = [variance_inflation_factor(df.values, i) for i in range(df.shape[1])]\n",
    "print(vif)\n"
   ]
  },
  {
   "cell_type": "markdown",
   "metadata": {
    "id": "9u5mQM46PeC4"
   },
   "source": [
    "**NOTE: Above Weekday and Amount Has a High VIF, so we dig deeper with Correlation Between Features**"
   ]
  },
  {
   "cell_type": "markdown",
   "metadata": {
    "id": "uOLbVAtDffyt"
   },
   "source": [
    "**Visualizing With A Heat Map**"
   ]
  },
  {
   "cell_type": "code",
   "execution_count": 24,
   "metadata": {
    "colab": {
     "base_uri": "https://localhost:8080/",
     "height": 508
    },
    "id": "PvtXQcc2zHg0",
    "outputId": "29f5733a-9656-4144-b2e2-4b2f624fd099"
   },
   "outputs": [
    {
     "data": {
      "image/png": "[encoded data removed]",
      "text/plain": [
       "<Figure size 800x400 with 2 Axes>"
      ]
     },
     "metadata": {},
     "output_type": "display_data"
    }
   ],
   "source": [
    "plt.figure(figsize=(8, 4))\n",
    "sns.heatmap(df.corr(),annot=True,cmap='coolwarm_r',fmt=\".2f\", linewidths=0.5)\n",
    "plt.xlabel('Features')\n",
    "plt.ylabel('Features')\n",
    "plt.title('Correlation Heatmap')\n",
    "plt.show()"
   ]
  },
  {
   "cell_type": "markdown",
   "metadata": {
    "id": "Tq75XfLjN7Am"
   },
   "source": [
    "**NOTE: We will drop Isweekend & Cluster columns due to Multicollinearity**"
   ]
  },
  {
   "cell_type": "markdown",
   "metadata": {
    "id": "c7NUo4IFmrsI"
   },
   "source": [
    "## **Preprocessing For Machine Learning: Standardization**\n"
   ]
  },
  {
   "cell_type": "code",
   "execution_count": 25,
   "metadata": {
    "id": "GtJhHuApzHjL"
   },
   "outputs": [],
   "source": [
    "from sklearn.preprocessing import StandardScaler\n",
    "X=df.drop(['IsFraud','IsWeekend','Cluster'],axis=1)\n",
    "y=df['IsFraud']\n",
    "\n",
    "scaler = StandardScaler()\n",
    "X_scale = scaler.fit_transform(X)"
   ]
  },
  {
   "cell_type": "code",
   "execution_count": 26,
   "metadata": {
    "colab": {
     "base_uri": "https://localhost:8080/",
     "height": 424
    },
    "id": "a2SiMv1lKxC4",
    "outputId": "7d6a9d58-960f-4054-b252-747bb9b8165d"
   },
   "outputs": [
    {
     "data": {
      "text/html": [
       "<div>\n",
       "<style scoped>\n",
       "    .dataframe tbody tr th:only-of-type {\n",
       "        vertical-align: middle;\n",
       "    }\n",
       "\n",
       "    .dataframe tbody tr th {\n",
       "        vertical-align: top;\n",
       "    }\n",
       "\n",
       "    .dataframe thead th {\n",
       "        text-align: right;\n",
       "    }\n",
       "</style>\n",
       "<table border=\"1\" class=\"dataframe\">\n",
       "  <thead>\n",
       "    <tr style=\"text-align: right;\">\n",
       "      <th></th>\n",
       "      <th>Amount</th>\n",
       "      <th>MerchantID</th>\n",
       "      <th>TransactionType</th>\n",
       "      <th>Location</th>\n",
       "      <th>Hour</th>\n",
       "      <th>Weekday</th>\n",
       "      <th>Day_of_Month</th>\n",
       "      <th>Month</th>\n",
       "      <th>IsNight</th>\n",
       "    </tr>\n",
       "  </thead>\n",
       "  <tbody>\n",
       "    <tr>\n",
       "      <th>0</th>\n",
       "      <td>1.173161</td>\n",
       "      <td>0.645357</td>\n",
       "      <td>0.997383</td>\n",
       "      <td>0.874292</td>\n",
       "      <td>0.361273</td>\n",
       "      <td>-0.508770</td>\n",
       "      <td>-1.450259</td>\n",
       "      <td>-0.729719</td>\n",
       "      <td>-0.708311</td>\n",
       "    </tr>\n",
       "    <tr>\n",
       "      <th>1</th>\n",
       "      <td>0.112740</td>\n",
       "      <td>-1.360085</td>\n",
       "      <td>0.997383</td>\n",
       "      <td>-1.211743</td>\n",
       "      <td>0.216715</td>\n",
       "      <td>-1.009016</td>\n",
       "      <td>0.365086</td>\n",
       "      <td>-1.019723</td>\n",
       "      <td>-0.708311</td>\n",
       "    </tr>\n",
       "    <tr>\n",
       "      <th>2</th>\n",
       "      <td>-1.187661</td>\n",
       "      <td>-0.372950</td>\n",
       "      <td>-1.002623</td>\n",
       "      <td>-0.168726</td>\n",
       "      <td>-0.216958</td>\n",
       "      <td>-1.509262</td>\n",
       "      <td>-0.882963</td>\n",
       "      <td>-1.599730</td>\n",
       "      <td>-0.708311</td>\n",
       "    </tr>\n",
       "    <tr>\n",
       "      <th>3</th>\n",
       "      <td>0.705284</td>\n",
       "      <td>1.532047</td>\n",
       "      <td>-1.002623</td>\n",
       "      <td>0.178947</td>\n",
       "      <td>1.662294</td>\n",
       "      <td>0.991967</td>\n",
       "      <td>-0.315668</td>\n",
       "      <td>-0.729719</td>\n",
       "      <td>1.411809</td>\n",
       "    </tr>\n",
       "    <tr>\n",
       "      <th>4</th>\n",
       "      <td>-1.475326</td>\n",
       "      <td>-0.092396</td>\n",
       "      <td>-1.002623</td>\n",
       "      <td>0.526620</td>\n",
       "      <td>0.939505</td>\n",
       "      <td>0.491722</td>\n",
       "      <td>-0.429127</td>\n",
       "      <td>0.140292</td>\n",
       "      <td>-0.708311</td>\n",
       "    </tr>\n",
       "    <tr>\n",
       "      <th>...</th>\n",
       "      <td>...</td>\n",
       "      <td>...</td>\n",
       "      <td>...</td>\n",
       "      <td>...</td>\n",
       "      <td>...</td>\n",
       "      <td>...</td>\n",
       "      <td>...</td>\n",
       "      <td>...</td>\n",
       "      <td>...</td>\n",
       "    </tr>\n",
       "    <tr>\n",
       "      <th>99995</th>\n",
       "      <td>-0.998193</td>\n",
       "      <td>-0.736631</td>\n",
       "      <td>0.997383</td>\n",
       "      <td>0.874292</td>\n",
       "      <td>-1.662537</td>\n",
       "      <td>0.491722</td>\n",
       "      <td>-0.996422</td>\n",
       "      <td>-0.149712</td>\n",
       "      <td>1.411809</td>\n",
       "    </tr>\n",
       "    <tr>\n",
       "      <th>99996</th>\n",
       "      <td>-1.525117</td>\n",
       "      <td>0.842784</td>\n",
       "      <td>0.997383</td>\n",
       "      <td>0.874292</td>\n",
       "      <td>1.662294</td>\n",
       "      <td>1.492213</td>\n",
       "      <td>0.705464</td>\n",
       "      <td>1.010304</td>\n",
       "      <td>1.411809</td>\n",
       "    </tr>\n",
       "    <tr>\n",
       "      <th>99997</th>\n",
       "      <td>0.659638</td>\n",
       "      <td>0.652284</td>\n",
       "      <td>-1.002623</td>\n",
       "      <td>0.874292</td>\n",
       "      <td>1.084062</td>\n",
       "      <td>0.491722</td>\n",
       "      <td>1.726595</td>\n",
       "      <td>-0.439715</td>\n",
       "      <td>-0.708311</td>\n",
       "    </tr>\n",
       "    <tr>\n",
       "      <th>99998</th>\n",
       "      <td>0.869169</td>\n",
       "      <td>0.492957</td>\n",
       "      <td>-1.002623</td>\n",
       "      <td>0.178947</td>\n",
       "      <td>-0.361516</td>\n",
       "      <td>0.491722</td>\n",
       "      <td>0.251627</td>\n",
       "      <td>1.010304</td>\n",
       "      <td>-0.708311</td>\n",
       "    </tr>\n",
       "    <tr>\n",
       "      <th>99999</th>\n",
       "      <td>-0.624166</td>\n",
       "      <td>0.600330</td>\n",
       "      <td>0.997383</td>\n",
       "      <td>-0.864071</td>\n",
       "      <td>1.084062</td>\n",
       "      <td>-1.009016</td>\n",
       "      <td>-1.223341</td>\n",
       "      <td>-1.019723</td>\n",
       "      <td>-0.708311</td>\n",
       "    </tr>\n",
       "  </tbody>\n",
       "</table>\n",
       "<p>100000 rows × 9 columns</p>\n",
       "</div>"
      ],
      "text/plain": [
       "         Amount  MerchantID  TransactionType  Location      Hour   Weekday  \\\n",
       "0      1.173161    0.645357         0.997383  0.874292  0.361273 -0.508770   \n",
       "1      0.112740   -1.360085         0.997383 -1.211743  0.216715 -1.009016   \n",
       "2     -1.187661   -0.372950        -1.002623 -0.168726 -0.216958 -1.509262   \n",
       "3      0.705284    1.532047        -1.002623  0.178947  1.662294  0.991967   \n",
       "4     -1.475326   -0.092396        -1.002623  0.526620  0.939505  0.491722   \n",
       "...         ...         ...              ...       ...       ...       ...   \n",
       "99995 -0.998193   -0.736631         0.997383  0.874292 -1.662537  0.491722   \n",
       "99996 -1.525117    0.842784         0.997383  0.874292  1.662294  1.492213   \n",
       "99997  0.659638    0.652284        -1.002623  0.874292  1.084062  0.491722   \n",
       "99998  0.869169    0.492957        -1.002623  0.178947 -0.361516  0.491722   \n",
       "99999 -0.624166    0.600330         0.997383 -0.864071  1.084062 -1.009016   \n",
       "\n",
       "       Day_of_Month     Month   IsNight  \n",
       "0         -1.450259 -0.729719 -0.708311  \n",
       "1          0.365086 -1.019723 -0.708311  \n",
       "2         -0.882963 -1.599730 -0.708311  \n",
       "3         -0.315668 -0.729719  1.411809  \n",
       "4         -0.429127  0.140292 -0.708311  \n",
       "...             ...       ...       ...  \n",
       "99995     -0.996422 -0.149712  1.411809  \n",
       "99996      0.705464  1.010304  1.411809  \n",
       "99997      1.726595 -0.439715 -0.708311  \n",
       "99998      0.251627  1.010304 -0.708311  \n",
       "99999     -1.223341 -1.019723 -0.708311  \n",
       "\n",
       "[100000 rows x 9 columns]"
      ]
     },
     "execution_count": 26,
     "metadata": {},
     "output_type": "execute_result"
    }
   ],
   "source": [
    "pd.DataFrame(X_scale,columns=X.columns)"
   ]
  },
  {
   "cell_type": "markdown",
   "metadata": {
    "id": "Yn0j8n1IpCQP"
   },
   "source": [
    "## **Logistic Regression**\n",
    "**Lets Split, Fit,Train Our Model Using Logistic Regression**"
   ]
  },
  {
   "cell_type": "code",
   "execution_count": 27,
   "metadata": {
    "colab": {
     "base_uri": "https://localhost:8080/",
     "height": 80
    },
    "id": "iNxFEO0bzHor",
    "outputId": "6f4b6e4d-d2e3-49c5-e806-63811faaf7ad"
   },
   "outputs": [
    {
     "data": {
      "text/html": [
       "<style>#sk-container-id-1 {color: black;}#sk-container-id-1 pre{padding: 0;}#sk-container-id-1 div.sk-toggleable {background-color: white;}#sk-container-id-1 label.sk-toggleable__label {cursor: pointer;display: block;width: 100%;margin-bottom: 0;padding: 0.3em;box-sizing: border-box;text-align: center;}#sk-container-id-1 label.sk-toggleable__label-arrow:before {content: \"▸\";float: left;margin-right: 0.25em;color: #696969;}#sk-container-id-1 label.sk-toggleable__label-arrow:hover:before {color: black;}#sk-container-id-1 div.sk-estimator:hover label.sk-toggleable__label-arrow:before {color: black;}#sk-container-id-1 div.sk-toggleable__content {max-height: 0;max-width: 0;overflow: hidden;text-align: left;background-color: #f0f8ff;}#sk-container-id-1 div.sk-toggleable__content pre {margin: 0.2em;color: black;border-radius: 0.25em;background-color: #f0f8ff;}#sk-container-id-1 input.sk-toggleable__control:checked~div.sk-toggleable__content {max-height: 200px;max-width: 100%;overflow: auto;}#sk-container-id-1 input.sk-toggleable__control:checked~label.sk-toggleable__label-arrow:before {content: \"▾\";}#sk-container-id-1 div.sk-estimator input.sk-toggleable__control:checked~label.sk-toggleable__label {background-color: #d4ebff;}#sk-container-id-1 div.sk-label input.sk-toggleable__control:checked~label.sk-toggleable__label {background-color: #d4ebff;}#sk-container-id-1 input.sk-hidden--visually {border: 0;clip: rect(1px 1px 1px 1px);clip: rect(1px, 1px, 1px, 1px);height: 1px;margin: -1px;overflow: hidden;padding: 0;position: absolute;width: 1px;}#sk-container-id-1 div.sk-estimator {font-family: monospace;background-color: #f0f8ff;border: 1px dotted black;border-radius: 0.25em;box-sizing: border-box;margin-bottom: 0.5em;}#sk-container-id-1 div.sk-estimator:hover {background-color: #d4ebff;}#sk-container-id-1 div.sk-parallel-item::after {content: \"\";width: 100%;border-bottom: 1px solid gray;flex-grow: 1;}#sk-container-id-1 div.sk-label:hover label.sk-toggleable__label {background-color: #d4ebff;}#sk-container-id-1 div.sk-serial::before {content: \"\";position: absolute;border-left: 1px solid gray;box-sizing: border-box;top: 0;bottom: 0;left: 50%;z-index: 0;}#sk-container-id-1 div.sk-serial {display: flex;flex-direction: column;align-items: center;background-color: white;padding-right: 0.2em;padding-left: 0.2em;position: relative;}#sk-container-id-1 div.sk-item {position: relative;z-index: 1;}#sk-container-id-1 div.sk-parallel {display: flex;align-items: stretch;justify-content: center;background-color: white;position: relative;}#sk-container-id-1 div.sk-item::before, #sk-container-id-1 div.sk-parallel-item::before {content: \"\";position: absolute;border-left: 1px solid gray;box-sizing: border-box;top: 0;bottom: 0;left: 50%;z-index: -1;}#sk-container-id-1 div.sk-parallel-item {display: flex;flex-direction: column;z-index: 1;position: relative;background-color: white;}#sk-container-id-1 div.sk-parallel-item:first-child::after {align-self: flex-end;width: 50%;}#sk-container-id-1 div.sk-parallel-item:last-child::after {align-self: flex-start;width: 50%;}#sk-container-id-1 div.sk-parallel-item:only-child::after {width: 0;}#sk-container-id-1 div.sk-dashed-wrapped {border: 1px dashed gray;margin: 0 0.4em 0.5em 0.4em;box-sizing: border-box;padding-bottom: 0.4em;background-color: white;}#sk-container-id-1 div.sk-label label {font-family: monospace;font-weight: bold;display: inline-block;line-height: 1.2em;}#sk-container-id-1 div.sk-label-container {text-align: center;}#sk-container-id-1 div.sk-container {/* jupyter's `normalize.less` sets `[hidden] { display: none; }` but bootstrap.min.css set `[hidden] { display: none !important; }` so we also need the `!important` here to be able to override the default hidden behavior on the sphinx rendered scikit-learn.org. See: https://github.com/scikit-learn/scikit-learn/issues/21755 */display: inline-block !important;position: relative;}#sk-container-id-1 div.sk-text-repr-fallback {display: none;}</style><div id=\"sk-container-id-1\" class=\"sk-top-container\"><div class=\"sk-text-repr-fallback\"><pre>LogisticRegression()</pre><b>In a Jupyter environment, please rerun this cell to show the HTML representation or trust the notebook. <br />On GitHub, the HTML representation is unable to render, please try loading this page with nbviewer.org.</b></div><div class=\"sk-container\" hidden><div class=\"sk-item\"><div class=\"sk-estimator sk-toggleable\"><input class=\"sk-toggleable__control sk-hidden--visually\" id=\"sk-estimator-id-1\" type=\"checkbox\" checked><label for=\"sk-estimator-id-1\" class=\"sk-toggleable__label sk-toggleable__label-arrow\">LogisticRegression</label><div class=\"sk-toggleable__content\"><pre>LogisticRegression()</pre></div></div></div></div></div>"
      ],
      "text/plain": [
       "LogisticRegression()"
      ]
     },
     "execution_count": 27,
     "metadata": {},
     "output_type": "execute_result"
    }
   ],
   "source": [
    "from sklearn.linear_model import LogisticRegression\n",
    "from sklearn.model_selection import train_test_split\n",
    "\n",
    "X_train, X_test, y_train, y_test = train_test_split(X_scale, y, test_size=0.2, random_state=42, stratify=y)\n",
    "model = LogisticRegression()\n",
    "model.fit(X_train, y_train)"
   ]
  },
  {
   "cell_type": "markdown",
   "metadata": {
    "id": "nGu1Ocz48mlq"
   },
   "source": [
    "## **Model Evaluation**"
   ]
  },
  {
   "cell_type": "code",
   "execution_count": 28,
   "metadata": {
    "id": "xRnFC9QdzIkf"
   },
   "outputs": [],
   "source": [
    "y_pred = model.predict(X_test)  # Get class labels (0 or 1)\n"
   ]
  },
  {
   "cell_type": "markdown",
   "metadata": {
    "id": "BEeUnx1adr-O"
   },
   "source": [
    "**Accuracy Score**"
   ]
  },
  {
   "cell_type": "code",
   "execution_count": 29,
   "metadata": {
    "colab": {
     "base_uri": "https://localhost:8080/"
    },
    "id": "CLG3hdyAdhAY",
    "outputId": "f137103f-8100-43a4-95ed-2a436f6e4ae0"
   },
   "outputs": [
    {
     "name": "stdout",
     "output_type": "stream",
     "text": [
      "Accuracy: 0.9900\n"
     ]
    }
   ],
   "source": [
    "from sklearn.metrics import accuracy_score\n",
    "\n",
    "accuracy = accuracy_score(y_test, y_pred)\n",
    "print(f\"Accuracy: {accuracy:.4f}\")"
   ]
  },
  {
   "cell_type": "markdown",
   "metadata": {
    "id": "RCQlIUwxfh-W"
   },
   "source": [
    "**Classification Report**"
   ]
  },
  {
   "cell_type": "code",
   "execution_count": 30,
   "metadata": {
    "colab": {
     "base_uri": "https://localhost:8080/"
    },
    "id": "T2AMxeLrdg8P",
    "outputId": "ffb11829-4831-4b47-c78a-6f74d10d2594"
   },
   "outputs": [
    {
     "name": "stdout",
     "output_type": "stream",
     "text": [
      "              precision    recall  f1-score   support\n",
      "\n",
      "           0       0.99      1.00      0.99     19800\n",
      "           1       1.00      0.00      0.00       200\n",
      "\n",
      "    accuracy                           0.99     20000\n",
      "   macro avg       0.99      0.50      0.50     20000\n",
      "weighted avg       0.99      0.99      0.99     20000\n",
      "\n"
     ]
    }
   ],
   "source": [
    "from sklearn.metrics import classification_report\n",
    "\n",
    "print(classification_report(y_test, y_pred,zero_division=1))\n"
   ]
  },
  {
   "cell_type": "markdown",
   "metadata": {
    "id": "s9wCHSOmgP2j"
   },
   "source": [
    "**ROC_AUC Score**"
   ]
  },
  {
   "cell_type": "code",
   "execution_count": 31,
   "metadata": {
    "colab": {
     "base_uri": "https://localhost:8080/"
    },
    "id": "XRf9WcZDdg1C",
    "outputId": "e832f23f-0583-40dd-b745-001e9a13e7f5"
   },
   "outputs": [
    {
     "name": "stdout",
     "output_type": "stream",
     "text": [
      "AUC-ROC Score: 0.4728\n"
     ]
    }
   ],
   "source": [
    "from sklearn.metrics import roc_auc_score\n",
    "\n",
    "# Get probability scores for the positive class (Fraud = 1)\n",
    "y_prob = model.predict_proba(X_test)[:, 1]\n",
    "\n",
    "# Compute AUC-ROC score\n",
    "auc_score = roc_auc_score(y_test, y_prob)\n",
    "\n",
    "print(f\"AUC-ROC Score: {auc_score:.4f}\")\n"
   ]
  },
  {
   "cell_type": "markdown",
   "metadata": {
    "id": "dujLZOpiv7BP"
   },
   "source": [
    "**Confusion Matrix**"
   ]
  },
  {
   "cell_type": "code",
   "execution_count": 32,
   "metadata": {
    "colab": {
     "base_uri": "https://localhost:8080/"
    },
    "id": "rwWz1cKSvydx",
    "outputId": "b2084e37-43f3-4d09-894d-0e4e4905ed82"
   },
   "outputs": [
    {
     "name": "stdout",
     "output_type": "stream",
     "text": [
      "[[19800     0]\n",
      " [  200     0]]\n"
     ]
    }
   ],
   "source": [
    "from sklearn.metrics import confusion_matrix\n",
    "\n",
    "cm1 = confusion_matrix(y_test, y_pred)\n",
    "\n",
    "print(cm1)"
   ]
  },
  {
   "cell_type": "markdown",
   "metadata": {
    "id": "f6e2b3BvwE7E"
   },
   "source": [
    "**Visualizing The Confusion Matrix for Better Readability**"
   ]
  },
  {
   "cell_type": "code",
   "execution_count": 33,
   "metadata": {
    "colab": {
     "base_uri": "https://localhost:8080/",
     "height": 333
    },
    "id": "Pc3jaXNYvyZT",
    "outputId": "c226e592-e1b8-4929-c698-ccbee190fdde"
   },
   "outputs": [
    {
     "data": {
      "image/png": "[encoded data removed]",
      "text/plain": [
       "<Figure size 1200x300 with 2 Axes>"
      ]
     },
     "metadata": {},
     "output_type": "display_data"
    }
   ],
   "source": [
    "\n",
    "from sklearn.metrics import confusion_matrix, ConfusionMatrixDisplay\n",
    "fig, ax = plt.subplots(figsize=(12,3))\n",
    "\n",
    "cmd1 = ConfusionMatrixDisplay(cm1,display_labels=[\"Non-Fraud\", \"Fraud\"])\n",
    "cmd1.plot(cmap=\"Blues\",values_format='d',ax=ax)\n",
    "ax.set_title(\"Logistic Regression\")\n",
    "\n",
    "plt.show()"
   ]
  },
  {
   "cell_type": "markdown",
   "metadata": {
    "id": "QTcaj9SEQe6N"
   },
   "source": [
    "## **Insight Generated:**\n",
    "\n",
    "- no case was correctly classified as fraud (True Positives - TP).\n",
    "- no case was wrongly classified as fraud (False Positives - FP).\n",
    "- 200 fraud cases were missed (False Negatives - FN).\n",
    "- 19800 case was correctly identified as non-fraud (True Negatives - TN).\n",
    "\n",
    "Summary:\n",
    "\n",
    "Our Model cannot detect any single fraud case due to its bias towards the majority class,as such it is performing very poor, so we will use another Model known as XGBoost to Evaluate our Model, due to Its performance with Imbalance dataset"
   ]
  },
  {
   "cell_type": "code",
   "execution_count": null,
   "metadata": {
    "id": "zh_lQVzMdgte"
   },
   "outputs": [],
   "source": []
  },
  {
   "cell_type": "markdown",
   "metadata": {
    "id": "bIlIFSHiRhMl"
   },
   "source": [
    "# **XGBOOST MODEL**\n",
    "\n",
    "**Initialize Model**"
   ]
  },
  {
   "cell_type": "code",
   "execution_count": 34,
   "metadata": {
    "id": "Q58EGKomdgq9"
   },
   "outputs": [],
   "source": [
    "import xgboost as xgb\n",
    "from sklearn.model_selection import train_test_split\n",
    "from sklearn.metrics import classification_report, roc_auc_score\n",
    "\n",
    "# Assuming X is your feature set, y is your target (0 = non-fraud, 1 = fraud)\n",
    "X_train, X_test, y_train, y_test = train_test_split(X, y, test_size=0.2, stratify=y, random_state=42)\n",
    "\n",
    "# Set scale_pos_weight to balance the dataset\n",
    "scale_pos_weight = sum(y_train == 0) / sum(y_train == 1)*165 # Increased weight\n",
    "\n",
    "# Initialize XGBoost model\n",
    "xgb_model = xgb.XGBClassifier(\n",
    "    objective=\"binary:logistic\",\n",
    "    scale_pos_weight=scale_pos_weight,\n",
    "    eval_metric=\"auc\"\n",
    ")\n"
   ]
  },
  {
   "cell_type": "markdown",
   "metadata": {
    "id": "QzcuYREJWWRc"
   },
   "source": [
    "**Fit & Train Model**"
   ]
  },
  {
   "cell_type": "code",
   "execution_count": 35,
   "metadata": {
    "id": "JJHZDrIhdgnp"
   },
   "outputs": [],
   "source": [
    "# Train the model\n",
    "xgb_model.fit(X_train, y_train)\n",
    "\n",
    "# Get predicted probabilities\n",
    "y_pred_proba = xgb_model.predict_proba(X_test)[:, 1]  # Probabilities for class 1 (fraud)\n",
    "\n",
    "# **Custom threshold (lower from 0.5 to 0.3)**\n",
    "threshold = 0.2\n",
    "y_pred = (y_pred_proba >= threshold).astype(int)  # Convert probabilities to binary labels\n",
    "\n"
   ]
  },
  {
   "cell_type": "markdown",
   "metadata": {
    "id": "F1D8I6iGWqTx"
   },
   "source": [
    "## **Model Evaluation**"
   ]
  },
  {
   "cell_type": "code",
   "execution_count": 36,
   "metadata": {
    "colab": {
     "base_uri": "https://localhost:8080/"
    },
    "id": "PEiwOkBbWw7V",
    "outputId": "467bf611-390f-4f70-9fca-443e5ef27ac0"
   },
   "outputs": [
    {
     "name": "stdout",
     "output_type": "stream",
     "text": [
      "              precision    recall  f1-score   support\n",
      "\n",
      "           0       0.99      0.58      0.74     19800\n",
      "           1       0.01      0.42      0.02       200\n",
      "\n",
      "    accuracy                           0.58     20000\n",
      "   macro avg       0.50      0.50      0.38     20000\n",
      "weighted avg       0.98      0.58      0.73     20000\n",
      "\n",
      "AUC-ROC Score: 0.5066231060606061\n",
      "Confusion Matrix:\n",
      "[[11582  8218]\n",
      " [  115    85]]\n"
     ]
    }
   ],
   "source": [
    "# Evaluate\n",
    "print(classification_report(y_test, y_pred,zero_division=1))\n",
    "print(\"AUC-ROC Score:\", roc_auc_score(y_test, y_pred_proba))\n",
    "\n",
    "cm2 = confusion_matrix(y_test, y_pred)\n",
    "\n",
    "# Print confusion matrix\n",
    "print(\"Confusion Matrix:\")\n",
    "print(cm2)\n"
   ]
  },
  {
   "cell_type": "markdown",
   "metadata": {
    "id": "XXax2ze1bIcS"
   },
   "source": [
    "**NOTE: Using XGBoost, gave us improvement on our Model, though not Perfect**"
   ]
  },
  {
   "cell_type": "markdown",
   "metadata": {
    "id": "aKBKPXKRbbVR"
   },
   "source": [
    "**Visualizing Our Final Confusion Matrix Comparing it With Our Initial Confusion Matrix**"
   ]
  },
  {
   "cell_type": "code",
   "execution_count": 37,
   "metadata": {
    "colab": {
     "base_uri": "https://localhost:8080/",
     "height": 333
    },
    "id": "pBsHA8Op15pa",
    "outputId": "8c0f83c9-3dae-40a1-f2b5-80faf6eb3743"
   },
   "outputs": [
    {
     "data": {
      "image/png": "[encoded data removed]",
      "text/plain": [
       "<Figure size 1200x300 with 4 Axes>"
      ]
     },
     "metadata": {},
     "output_type": "display_data"
    }
   ],
   "source": [
    "from sklearn.metrics import confusion_matrix, ConfusionMatrixDisplay\n",
    "fig, axes = plt.subplots(1, 2, figsize=(12,3))\n",
    "\n",
    "cmd1 = ConfusionMatrixDisplay(cm1, display_labels=[\"Non-Fraud\", \"Fraud\"])#First Confusion Matrix With Log.Regression\n",
    "cmd1.plot(ax=axes[0], cmap=\"Blues\", values_format=\"d\")\n",
    "axes[0].set_title(\"Logistic Regression\")\n",
    "\n",
    "cmd2 = ConfusionMatrixDisplay(cm2,display_labels=[\"Non-Fraud\", \"Fraud\"])# Second Confusion Matrix with XGBoost\n",
    "cmd2.plot(ax=axes[1],cmap=\"Blues\")\n",
    "axes[1].set_title(\"XGBoost\")\n",
    "plt.show()"
   ]
  },
  {
   "cell_type": "markdown",
   "metadata": {
    "id": "HKC9HgG_gea1"
   },
   "source": [
    "## **Insight Generated:**\n",
    "\n",
    "- 85 cases were correctly classified as fraud compared to 0 cases previously (True Positives - TP).\n",
    "- 8218 cases were wrongly classified as fraud compared to 0 previously (False Positives - FP).\n",
    "- 115 fraud cases were missed compared to 200 cases previously(False Negatives - FN).\n",
    "- 11582 cases were correctly identified as non-fraud compared to 19800 (True Negatives - TN).\n",
    "\n",
    "## **Conclusion**\n",
    "The Model Has shown a remarkable improvement compared to the first model that was using Logistic Regression. Though Its not perfect, but advance tuning can be done through Resampling(undersampling or oversampling such as SMOTE)\n"
   ]
  },
  {
   "cell_type": "code",
   "execution_count": null,
   "metadata": {},
   "outputs": [],
   "source": []
  }
 ],
 "metadata": {
  "colab": {
   "provenance": []
  },
  "kernelspec": {
   "display_name": "Python 3 (ipykernel)",
   "language": "python",
   "name": "python3"
  },
  "language_info": {
   "codemirror_mode": {
    "name": "ipython",
    "version": 3
   },
   "file_extension": ".py",
   "mimetype": "text/x-python",
   "name": "python",
   "nbconvert_exporter": "python",
   "pygments_lexer": "ipython3",
   "version": "3.11.5"
  }
 },
 "nbformat": 4,
 "nbformat_minor": 4
}
